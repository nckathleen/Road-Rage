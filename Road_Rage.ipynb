{
 "cells": [
  {
   "cell_type": "code",
   "execution_count": 2,
   "metadata": {
    "collapsed": true
   },
   "outputs": [],
   "source": [
    "import math\n",
    "import random\n",
    "import numpy as np\n",
    "import statistics as st\n",
    "import matplotlib as plt"
   ]
  },
  {
   "cell_type": "markdown",
   "metadata": {},
   "source": [
    "## Class Vehicle"
   ]
  },
  {
   "cell_type": "code",
   "execution_count": null,
   "metadata": {
    "collapsed": false
   },
   "outputs": [],
   "source": [
    "class Vehicle():\n",
    "    '''Normal mode = Car only\n",
    "    slow down\n",
    "    speed up\n",
    "    '''\n",
    "    \n",
    "    def __init__(self, length, vehicle, max_speed):\n",
    "        self.length = length\n",
    "        self.vehicle = vehicle\n",
    "        self.speed = 0\n",
    "        self.max_speed = 33       \n",
    "    \n",
    "    def speed_up():\n",
    "        if self.slow() and self.speed > 0:\n",
    "            self.speed -= 2\n",
    "        if self.speed <= 31:\n",
    "            self.speed += 2\n",
    "        \n",
    "    def slow_down(self):\n",
    "        if random.random() < 0.1:\n",
    "            return True\n",
    "        else:\n",
    "            \n",
    "            return False\n",
    "   \n",
    "\n",
    "    def check_next_move(self):   \n",
    "        if (self.speed + 2) * 2 < self[2].position - self[2].length:\n",
    "            place_cars\n",
    "        elif (self.speed + 2) * 2 < self[2].position - self[2].length:\n",
    "            stop\n",
    "        else:\n",
    "            \n",
    "            \n",
    "    \n",
    "    def stop(self):\n",
    "        self.speed = 0\n",
    "        \n",
    "    def will_hit(self):\n",
    "    "
   ]
  },
  {
   "cell_type": "markdown",
   "metadata": {},
   "source": [
    "## Class Road"
   ]
  },
  {
   "cell_type": "code",
   "execution_count": null,
   "metadata": {
    "collapsed": true
   },
   "outputs": [],
   "source": [
    "class Road():\n",
    "    '''\n",
    "    monitor position of cars\n",
    "    monitor speed of cars  \n",
    "    '''\n",
    "    \n",
    "    def __init__(self, length, vehicle):\n",
    "        self.vehicle = vehicle\n",
    "        self.length = 1000\n",
    "    \n",
    "    def go_to_beginning(self):\n",
    "        #  if position + desired_speed > 1000, subtract 1000\n",
    "        #  place_car\n",
    "        \n",
    "        \n",
    "    def vehicle_spacing(self):\n",
    "        if self.speed <= space_between + 5:\n",
    "            place_cars = vehicle_loc[n + desired_move]\n",
    "        else:\n",
    "            too_close\n",
    "\n",
    "\n",
    "#                     Tested and working in Playground !!!            \n",
    "#def check_for_max_speed():\n",
    "if self.speed >= 31:\n",
    "    self.speed = 30\n",
    "    print(\"Max is: {}\".format(self.speed))\n",
    "\n",
    "#def check_for_end():   \n",
    "if self.position + (self.speed + 2) >= 1000:\n",
    "    new_move = self.position + (self.speed + 2) - 1000\n",
    "    print(\"new_move = {}\".format(new_move))\n",
    "else:        \n",
    "    new_move = self.position + (self.speed + 2) \n",
    "    print(\"New move is: {}\".format(new_move)) \n",
    "\n",
    "#def place_car():\n",
    "    if car2_position - car2_length > new_move:\n",
    "    print(\"Go ahead and move.  Speed is {}\".format(new_move))\n",
    "elif car2_position - car2_length == new_move:\n",
    "    print(\"Getting a little close!\")\n",
    "    new_move -= 1\n",
    "    print(\"Stay back one\", new_move)\n",
    "    if self.speed > car2_speed:\n",
    "        self.speed = car2_speed\n",
    "        print(\"Car2's speed is desired: {}\".format(car2_speed))\n",
    "else:\n",
    "    print(\"stop!\")\n",
    "    \n",
    "#def random_slow_down     if True\n",
    "if random.random() < 0.1:\n",
    "    self.speed -= 2\n",
    "    print(\"Reduce by 2\")   \n",
    "\n",
    "            "
   ]
  },
  {
   "cell_type": "markdown",
   "metadata": {},
   "source": [
    "## Place Cars"
   ]
  },
  {
   "cell_type": "code",
   "execution_count": 3,
   "metadata": {
    "collapsed": true
   },
   "outputs": [],
   "source": [
    "if tick == 0:\n",
    "        initial_placement\n",
    "    else:\n",
    "        place_car\n",
    "\n",
    "def place_cars():\n",
    "    \n",
    "        \n",
    "def initial_placement():\n",
    "        \n",
    "        \n",
    "\n",
    "#     np.zeros((1,1000))\n",
    "#     spacing = round((1000 - 30 * 5) / 30)\n",
    "#     array = ()\n",
    "#   road_list = np.array(0, 1000)\n",
    "    \n",
    "    \n",
    "#     def initial_placement(self, vehicle):\n",
    "#         for road_list\n",
    "        \n",
    "#     def move_ahead(self, vehicle):\n",
    "        "
   ]
  },
  {
   "cell_type": "markdown",
   "metadata": {},
   "source": [
    "## Parking Lot"
   ]
  },
  {
   "cell_type": "markdown",
   "metadata": {},
   "source": [
    "Data to store with car: \n",
    "  - car number\n",
    "  - speed\n",
    "  - position\n",
    "  \n",
    "    \n",
    "Data to store with tick:\n",
    "    - average speed of all cars per tick\n",
    "    - tick count\n",
    "    - \n",
    "\n",
    "    "
   ]
  },
  {
   "cell_type": "markdown",
   "metadata": {},
   "source": [
    "\n",
    "\n"
   ]
  },
  {
   "cell_type": "code",
   "execution_count": null,
   "metadata": {
    "collapsed": false
   },
   "outputs": [],
   "source": []
  },
  {
   "cell_type": "code",
   "execution_count": null,
   "metadata": {
    "collapsed": true
   },
   "outputs": [],
   "source": []
  }
 ],
 "metadata": {
  "kernelspec": {
   "display_name": "Python 3",
   "language": "python",
   "name": "python3"
  },
  "language_info": {
   "codemirror_mode": {
    "name": "ipython",
    "version": 3
   },
   "file_extension": ".py",
   "mimetype": "text/x-python",
   "name": "python",
   "nbconvert_exporter": "python",
   "pygments_lexer": "ipython3",
   "version": "3.4.3"
  }
 },
 "nbformat": 4,
 "nbformat_minor": 0
}
