{
 "cells": [
  {
   "cell_type": "code",
   "execution_count": null,
   "metadata": {
    "collapsed": true
   },
   "outputs": [],
   "source": [
    "import math\n",
    "import random\n",
    "import numpy as np\n",
    "import statistics as st\n",
    "import matplotlib as plt"
   ]
  },
  {
   "cell_type": "markdown",
   "metadata": {},
   "source": [
    "## Class Vehicle"
   ]
  },
  {
   "cell_type": "code",
   "execution_count": null,
   "metadata": {
    "collapsed": false
   },
   "outputs": [],
   "source": [
    "class Vehicle():\n",
    "    '''Normal mode = Car only\n",
    "    speed of vehicles\n",
    "    location on road of vehicles\n",
    "    random slow-down mechanism\n",
    "    '''   \n",
    "    \n",
    "    def __init__(self, vehicle, speed, max_speed, position, length):\n",
    "        self.vehicle = vehicle\n",
    "        self.speed = speed\n",
    "        self.max_speed = max_speed\n",
    "        self.position = position\n",
    "        self.length = length\n",
    "        \n",
    "     \n",
    "    def check_for_max_speed(self, speed, max_speed):\n",
    "        if self.speed >= max_speed - 2:\n",
    "            self.speed = 31\n",
    "            print(\"Max is: {}\".format(self.speed))\n",
    "            \n",
    "    def random_slow_down():         \n",
    "        if random.random() < 0.1:\n",
    "            return True  \n",
    "\n",
    "    def move(self, vehicle, speed, position, new_move):\n",
    "        speed = self.check_for_max_speed\n",
    "        if vehicle[+1].position - vehilce[+1].length > new_move:\n",
    "            print(\"Go ahead and move.  Speed is {}\".format(new_move))\n",
    "        elif vehicle[+1].position - vehicle[+1].length == new_move:\n",
    "            print(\"Getting a little close!\")\n",
    "            new_move -= 1\n",
    "            print(\"Stay back one\", new_move)\n",
    "            if self.speed > vehicle[+1].speed:\n",
    "                self.speed = vehicle[+1].speed\n",
    "                print(\"Car2's speed is desired: {}\".format(vehicle[+1].speed))\n",
    "        else:\n",
    "            print(\"stop!\")\n",
    "        if random_slow_down:\n",
    "            self.speed -= 2\n",
    "            print(\"Reduce by 2\")\n",
    "        "
   ]
  },
  {
   "cell_type": "markdown",
   "metadata": {},
   "source": [
    "## Class Road\n"
   ]
  },
  {
   "cell_type": "code",
   "execution_count": 8,
   "metadata": {
    "collapsed": false
   },
   "outputs": [],
   "source": [
    "class Road():\n",
    "    '''\n",
    "    monitor position of cars\n",
    "    monitor speed of cars  \n",
    "    '''\n",
    "    \n",
    "    def __init__(self, length, speed, max_speed, vehicle):\n",
    "        self.vehicle = vehicle\n",
    "        self.speed = 2        # will have to change for different types of vehicle\n",
    "        max_speed = 33        # speed is in meters per second\n",
    "        self.length = 1000    # length of road in meters\n",
    "\n",
    "    def initial_placement():\n",
    "        print(\"In init placement\")\n",
    "        spacing = round((1000 - 30 * 5) / 30)\n",
    "        car_dict = {}\n",
    "        position = (spacing + spacing * n + 1) + length\n",
    "        car_dict = {'speed': speed, 'position': position, 'length': length}\n",
    "        car_list.append(car_dict)\n",
    "        print(car_list[0])\n",
    "        return (self.position)\n",
    "   \n",
    "    def check_for_end_of_road(self, vehicle, speed):   \n",
    "        if self.position + (self.speed + 2) >= 1000:\n",
    "            self.position = self.position + (self.speed + 2) - 1000\n",
    "        else:        \n",
    "            self.position = self.position + (self.speed + 2) \n",
    "            "
   ]
  },
  {
   "cell_type": "markdown",
   "metadata": {},
   "source": [
    "## class Simulation"
   ]
  },
  {
   "cell_type": "code",
   "execution_count": 1,
   "metadata": {
    "collapsed": true
   },
   "outputs": [],
   "source": [
    "class Simulation():\n",
    "    \n",
    "    def __init__(self):\n",
    "        self.tick = 0\n",
    "        \n",
    "    def initialize(self):\n",
    "        tick = 0\n",
    "        car_list = []\n",
    "        speed_data = {}\n",
    "    \n",
    "    def run_sim(self):\n",
    "        initial_placement(position)\n",
    "        for x in range(60):\n",
    "            car_list[x].append(car_dict)\n",
    "            speed_data.append(car_list[x]['speed': self.speed, 'position', self.position])  \n",
    "            for car in car_list:\n",
    "                new_move = self.check_for_end_of_road(vehicle)\n",
    "                self.move\n",
    "        car_list[x].append(car_dict)\n",
    "        speed_data.append(car_list[x]['speed'])\n",
    "        return car_list           \n",
    "    \n",
    "    def __str__(self):\n",
    "        return \n",
    "        \n",
    "        "
   ]
  },
  {
   "cell_type": "markdown",
   "metadata": {},
   "source": [
    "\n",
    "\n"
   ]
  },
  {
   "cell_type": "code",
   "execution_count": null,
   "metadata": {
    "collapsed": true
   },
   "outputs": [],
   "source": []
  }
 ],
 "metadata": {
  "kernelspec": {
   "display_name": "Python 3",
   "language": "python",
   "name": "python3"
  },
  "language_info": {
   "codemirror_mode": {
    "name": "ipython",
    "version": 3
   },
   "file_extension": ".py",
   "mimetype": "text/x-python",
   "name": "python",
   "nbconvert_exporter": "python",
   "pygments_lexer": "ipython3",
   "version": "3.4.3"
  }
 },
 "nbformat": 4,
 "nbformat_minor": 0
}
