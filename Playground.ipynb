{
 "cells": [
  {
   "cell_type": "code",
   "execution_count": null,
   "metadata": {
    "collapsed": true
   },
   "outputs": [],
   "source": [
    "import random\n",
    "import numpy as np"
   ]
  },
  {
   "cell_type": "markdown",
   "metadata": {},
   "source": [
    "### Class Vehicle"
   ]
  },
  {
   "cell_type": "code",
   "execution_count": null,
   "metadata": {
    "collapsed": false
   },
   "outputs": [],
   "source": [
    "class Vehicle:\n",
    "    '''Normal mode = Car only\n",
    "    slow down\n",
    "    speed up\n",
    "    '''  \n",
    "    def __init__(self, length, speed, max_speed):\n",
    "        self.length = 5\n",
    "        self.max_speed = 33\n",
    "        self.speed = 0\n",
    "        \n",
    "    def speed_up(self):\n",
    "        if self.slow() and self.speed > 0:\n",
    "            self.speed -= 2\n",
    "        if self.speed <= 31:\n",
    "            self.speed += 2\n",
    "                   \n",
    "    def slow_down(self):\n",
    "        if random.random() < 0.1:\n",
    "            return True\n",
    "        else:\n",
    "            return False\n",
    "        "
   ]
  },
  {
   "cell_type": "code",
   "execution_count": null,
   "metadata": {
    "collapsed": false
   },
   "outputs": [],
   "source": [
    "honda = Vehicle()"
   ]
  },
  {
   "cell_type": "markdown",
   "metadata": {},
   "source": [
    "### Class Road"
   ]
  },
  {
   "cell_type": "code",
   "execution_count": null,
   "metadata": {
    "collapsed": false
   },
   "outputs": [],
   "source": [
    "class Road:\n",
    "    \n",
    "    def __init__(self):\n",
    "        self.length = 1000\n",
    "     \n",
    "    car_list = [[number, position, speed][number, position, speed][number, position, speed]]\n",
    "    tick += 1\n",
    "    \n",
    "    \n",
    "    def place_car(self):\n",
    "        "
   ]
  },
  {
   "cell_type": "code",
   "execution_count": null,
   "metadata": {
    "collapsed": false
   },
   "outputs": [],
   "source": [
    "slow_count = 0\n",
    "for _ in range(60):\n",
    "    if honda.slow() == True:\n",
    "        slow_count += 1\n",
    "        \n",
    "print(slow_count)"
   ]
  },
  {
   "cell_type": "code",
   "execution_count": null,
   "metadata": {
    "collapsed": false
   },
   "outputs": [],
   "source": [
    "for _ in range(100):\n",
    "    honda.slow()"
   ]
  },
  {
   "cell_type": "code",
   "execution_count": null,
   "metadata": {
    "collapsed": false
   },
   "outputs": [],
   "source": [
    "road_list = np.array(0, 1000)\n",
    "print(road_list)"
   ]
  },
  {
   "cell_type": "markdown",
   "metadata": {},
   "source": [
    "### Drop Cars In"
   ]
  },
  {
   "cell_type": "code",
   "execution_count": null,
   "metadata": {
    "collapsed": false
   },
   "outputs": [],
   "source": [
    "length = 5\n",
    "spacing = round((1000 - 30 * 5) / 30) + length\n",
    "print(spacing)\n",
    "\n",
    "def drop_cars_in():\n",
    "    car[1] = 1\n",
    "    for n in range(2, 29):\n",
    "        car[n] = spacing +"
   ]
  },
  {
   "cell_type": "code",
   "execution_count": null,
   "metadata": {
    "collapsed": false
   },
   "outputs": [],
   "source": [
    "road_list = np.array(range(0, 1000))\n",
    "print(road_list)  "
   ]
  },
  {
   "cell_type": "markdown",
   "metadata": {},
   "source": [
    "### Notes on next move"
   ]
  },
  {
   "cell_type": "code",
   "execution_count": null,
   "metadata": {
    "collapsed": true
   },
   "outputs": [],
   "source": [
    "def max_speed():\n",
    "    if car_speed >= 31:\n",
    "    return True"
   ]
  },
  {
   "cell_type": "markdown",
   "metadata": {},
   "source": [
    "### Speed adjustment and random 10%   --TESTED--"
   ]
  },
  {
   "cell_type": "code",
   "execution_count": 38,
   "metadata": {
    "collapsed": false
   },
   "outputs": [
    {
     "name": "stdout",
     "output_type": "stream",
     "text": [
      "new_move = 17\n",
      "Go ahead and move.  Speed is 17\n"
     ]
    }
   ],
   "source": [
    "import random\n",
    "\n",
    "car_position = 995\n",
    "car_speed = 20\n",
    "car_length = 5\n",
    "\n",
    "car2_speed = 6\n",
    "car2_length = 5\n",
    "car2_position = 170\n",
    "new_move = 0                 \n",
    "                 #  NEED TO ADD MAX SPEED CHECK!\n",
    "\n",
    "\n",
    "#def check_for_max_speed():\n",
    "if car_speed >= 31:\n",
    "    car_speed = 30\n",
    "    print(\"Max is: {}\".format(car_speed))\n",
    "\n",
    "#def check_for_end():   \n",
    "if car_position + (car_speed + 2) >= 1000:\n",
    "    new_move = car_position + (car_speed + 2) - 1000\n",
    "    print(\"new_move = {}\".format(new_move))\n",
    "else:        \n",
    "    new_move = car_position + (car_speed + 2) \n",
    "    print(\"New move is: {}\".format(new_move)) \n",
    "\n",
    "#def place_car():\n",
    "if car2_position - car2_length > new_move:\n",
    "    print(\"Go ahead and move.  Speed is {}\".format(new_move))\n",
    "elif car2_position - car2_length == new_move:\n",
    "    print(\"Getting a little close!\")\n",
    "    new_move -= 1\n",
    "    print(\"Stay back one\", new_move)\n",
    "    if car_speed > car2_speed:\n",
    "        car_speed = car2_speed\n",
    "        print(\"Car2's speed is desired: {}\".format(car2_speed))\n",
    "else:\n",
    "    print(\"stop!\")\n",
    "    \n",
    "#def random_slow_down     if True ?\n",
    "if random.random() < 0.1:\n",
    "    car_speed -= 2\n",
    "    print(\"Reduce by 2\")   \n",
    "\n"
   ]
  },
  {
   "cell_type": "markdown",
   "metadata": {},
   "source": [
    "### Ticks"
   ]
  },
  {
   "cell_type": "code",
   "execution_count": null,
   "metadata": {
    "collapsed": true
   },
   "outputs": [],
   "source": [
    "tick = 0\n",
    "\n",
    "for _ in range(60):\n",
    "    #  Run the simulation\n",
    "    if tick == 0:\n",
    "        initial_placement()\n",
    "    else:\n",
    "        next_tick()\n",
    "\n",
    "def next_tick():\n",
    "    check_for_max_speed()\n",
    "        \n",
    "def initial_placement():\n",
    "#  Create lists\n",
    "#  Populate lists"
   ]
  },
  {
   "cell_type": "code",
   "execution_count": null,
   "metadata": {
    "collapsed": true
   },
   "outputs": [],
   "source": []
  }
 ],
 "metadata": {
  "kernelspec": {
   "display_name": "Python 3",
   "language": "python",
   "name": "python3"
  },
  "language_info": {
   "codemirror_mode": {
    "name": "ipython",
    "version": 3
   },
   "file_extension": ".py",
   "mimetype": "text/x-python",
   "name": "python",
   "nbconvert_exporter": "python",
   "pygments_lexer": "ipython3",
   "version": "3.4.3"
  }
 },
 "nbformat": 4,
 "nbformat_minor": 0
}
